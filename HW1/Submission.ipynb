{
 "cells": [
  {
   "cell_type": "markdown",
   "id": "081e7854-dd60-4955-92da-d8e48c66fa12",
   "metadata": {},
   "source": [
    "# HW1: NGram Models"
   ]
  },
  {
   "cell_type": "code",
   "execution_count": 1,
   "id": "1737b81f-dbb0-4f3c-939c-4ca319610b22",
   "metadata": {},
   "outputs": [],
   "source": [
    "from mtg import finish_sentence\n",
    "import nltk\n",
    "import numpy as np"
   ]
  },
  {
   "cell_type": "code",
   "execution_count": 2,
   "id": "060c5981-8396-4bfa-a885-b0ad2d0e3429",
   "metadata": {},
   "outputs": [],
   "source": [
    "corpus = nltk.word_tokenize(\n",
    "    nltk.corpus.gutenberg.raw('austen-sense.txt').lower()\n",
    ")"
   ]
  },
  {
   "cell_type": "markdown",
   "id": "df4133ec-e5f4-4055-8601-766ad76ef0ed",
   "metadata": {},
   "source": [
    "## Provided Test Case"
   ]
  },
  {
   "cell_type": "code",
   "execution_count": 3,
   "id": "dc5782e2-22ce-424d-bac4-c5cabfccc42a",
   "metadata": {},
   "outputs": [
    {
     "name": "stdout",
     "output_type": "stream",
     "text": [
      "['she', 'was', 'not', 'in', 'the', 'world', '.']\n"
     ]
    }
   ],
   "source": [
    "words = finish_sentence(\n",
    "        [\"she\", \"was\", \"not\"],\n",
    "        3,\n",
    "        corpus,\n",
    "        randomize=False,\n",
    "    )\n",
    "\n",
    "print(words)\n",
    "    "
   ]
  },
  {
   "cell_type": "markdown",
   "id": "75f3b0f8-75b4-4c8c-a62b-8f12080c46c3",
   "metadata": {},
   "source": [
    "## Nondeterministic Behavior w/ austen-sense data"
   ]
  },
  {
   "cell_type": "code",
   "execution_count": 9,
   "id": "bd1a81cc-168e-44de-a235-42d8d141d9c1",
   "metadata": {},
   "outputs": [
    {
     "name": "stdout",
     "output_type": "stream",
     "text": [
      "['she', 'was', 'not', 'suspected', 'of', 'any', 'extraordinary', 'interest', 'in', 'it']\n",
      "['she', 'was', 'not', 'immediately', 'that', 'an', 'opportunity', 'of', 'endeavouring', 'to']\n",
      "['she', 'was', 'not', 'aware', 'that', 'such', 'language', 'could', 'be', 'suffered']\n",
      "['she', 'was', 'not', 'elinor', ',', 'appear', 'a', 'compliment', 'to', 'herself']\n",
      "['she', 'was', 'not', 'in', 'mrs.', 'ferrars', \"'\", 'power', 'to', 'distress']\n",
      "['she', 'was', 'not', 'suspected', 'of', 'any', 'extraordinary', 'interest', 'in', 'it']\n",
      "['she', 'was', 'not', 'doomed', ',', 'however', ',', 'elinor', 'perceived', ',']\n",
      "['she', 'was', 'not', 'elinor', ',', 'who', ',', 'though', 'still', 'unable']\n",
      "['she', 'was', 'not', 'quite', 'herself', ',', 'and', 'was', 'always', 'sure']\n",
      "['she', 'was', 'not', 'to', 'be', 'thought', 'of', ';', '--', 'and']\n"
     ]
    }
   ],
   "source": [
    "for i in range(10):\n",
    "    words = finish_sentence(\n",
    "            [\"she\", \"was\", \"not\"],\n",
    "            4,\n",
    "            corpus,\n",
    "            randomize=True,\n",
    "        )\n",
    "    print(words)"
   ]
  },
  {
   "cell_type": "markdown",
   "id": "a643fea6-ee1a-47f5-b73d-244d6a16b8cd",
   "metadata": {},
   "source": [
    "## Deterministic Behaviors with Simple Example"
   ]
  },
  {
   "cell_type": "code",
   "execution_count": 17,
   "id": "9f6876bb-2580-4c0f-bb8f-bf060cc86f02",
   "metadata": {},
   "outputs": [
    {
     "name": "stdout",
     "output_type": "stream",
     "text": [
      "['I', 'am', 'a', 'big', 'big', 'big', 'big', 'big', 'big', 'big']\n",
      "['I', 'am', 'a', 'big', 'big', 'cat', '.']\n",
      "['not', 'a', 'big', 'big', 'big', 'big', 'big', 'big', 'big', 'big']\n"
     ]
    }
   ],
   "source": [
    "corpus = ['I', 'am', 'a', 'big', 'big', 'cat', '.', 'I', 'am', 'not', 'a', 'big', 'dog', '.']\n",
    "print(finish_sentence([\"I\"], 2, corpus))\n",
    "print(finish_sentence([\"I\"], 3, corpus))\n",
    "print(finish_sentence([\"not\"], 2, corpus))"
   ]
  }
 ],
 "metadata": {
  "kernelspec": {
   "display_name": "Python 3 (ipykernel)",
   "language": "python",
   "name": "python3"
  },
  "language_info": {
   "codemirror_mode": {
    "name": "ipython",
    "version": 3
   },
   "file_extension": ".py",
   "mimetype": "text/x-python",
   "name": "python",
   "nbconvert_exporter": "python",
   "pygments_lexer": "ipython3",
   "version": "3.9.13"
  }
 },
 "nbformat": 4,
 "nbformat_minor": 5
}
